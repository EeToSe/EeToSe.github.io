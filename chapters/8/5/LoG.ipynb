{
 "cells": [
  {
   "cell_type": "markdown",
   "metadata": {},
   "source": [
    "## Laplacian($\\bigtriangledown^{2}$) as edge detector\n",
    "\n",
    "```{figure} ../../../images/edge/laplacian.jpg\n",
    "---\n",
    "scale: 100%\n",
    "---\n",
    "```\n",
    "    \n",
    "$$\\bigtriangledown^{2} f = \\frac{\\partial^{2} f}{\\partial x^{2}}+\\frac{\\partial^{2} f}{\\partial y^{2}}$$"
   ]
  },
  {
   "cell_type": "markdown",
   "metadata": {},
   "source": [
    "## Derivative of Gaussian (DoG)\n",
    "\n",
    "```{figure} ../../../images/edge/DoG_noise.jpg\n",
    "---\n",
    "scale: 100%\n",
    "figclass: margin\n",
    "---\n",
    "```\n",
    "```{margin}\n",
    "To combat image corruption by additive Gaussian noise\n",
    "```\n",
    "\n",
    "### Smooth by gaussian filter\n",
    "```{figure} ../../../images/edge/DoG.png\n",
    "---\n",
    "scale: 100%\n",
    "---\n",
    "```\n",
    "Take derivatives of Gaussian filtered image = apply DoG to image directly\n",
    "\n",
    "### Gaussian vs DoG\n",
    "Gaussian:\n",
    "- remove “high-frequency” components;  “low-pass” filter\n",
    "- Can the weights' values of a smoothing filter be negative? No\n",
    "- The values sum to **One**: constant regions are not affected by the filter\n",
    "\n",
    "DoG:\n",
    "- Can the values of a derivative filter be negative?\n",
    "- Can the weights' values of a smoothing filter be negative? Yes\n",
    "- The values sum to **Zero**: no response in constant regions"
   ]
  }
 ],
 "metadata": {
  "kernelspec": {
   "display_name": "Python 3.8.7 64-bit",
   "language": "python",
   "name": "python3"
  },
  "language_info": {
   "codemirror_mode": {
    "name": "ipython",
    "version": 3
   },
   "file_extension": ".py",
   "mimetype": "text/x-python",
   "name": "python",
   "nbconvert_exporter": "python",
   "pygments_lexer": "ipython3",
   "version": "3.8.7"
  },
  "orig_nbformat": 4,
  "vscode": {
   "interpreter": {
    "hash": "8e6f06b9833c4084fe10121ef5280e1dfbbe01f480e3da5e4e8f2616d48ed9a6"
   }
  }
 },
 "nbformat": 4,
 "nbformat_minor": 2
}
