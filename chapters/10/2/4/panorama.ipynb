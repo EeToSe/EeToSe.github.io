{
 "cells": [
  {
   "cell_type": "markdown",
   "metadata": {},
   "source": [
    "# Panorama\n",
    "Adapt from [CMU 16720B – Computer Vision](http://ci2cv.net/16720b/schedule/), see [HW2](https://github.com/jingwenh/Computer-Vision-CMU-16720B/blob/master/HW2_Feature_Descriptors_Homographies_RANSAC/homework2.pdf) and sections [](../../../9/1/sift.ipynb) & [](../../../9/2/homography.md) \n",
    "\n",
    "See {download}`ppt <./panorama-ppt.pdf>`, {download}`report <./panorama-report.pdf>` & [{bdg-primary}`code`](https://github.com/EeToSe/image-cv/tree/main/cmu_cv/panorama) of this project\n"
   ]
  },
  {
   "cell_type": "markdown",
   "metadata": {},
   "source": [
    "<iframe src=\"https://docs.google.com/viewerng/viewer?url=https://eetose.github.io/_downloads/8f06d8bab66195c7b3b7fe1bbae3f680/panorama-ppt.pdf&embedded=true\" frameborder=\"0\" height=\"780\" width=\"100%\">\n",
    "</iframe>"
   ]
  }
 ],
 "metadata": {
  "kernelspec": {
   "display_name": "Python 3.8.7 64-bit",
   "language": "python",
   "name": "python3"
  },
  "language_info": {
   "codemirror_mode": {
    "name": "ipython",
    "version": 3
   },
   "file_extension": ".py",
   "mimetype": "text/x-python",
   "name": "python",
   "nbconvert_exporter": "python",
   "pygments_lexer": "ipython3",
   "version": "3.8.7"
  },
  "orig_nbformat": 4,
  "vscode": {
   "interpreter": {
    "hash": "8e6f06b9833c4084fe10121ef5280e1dfbbe01f480e3da5e4e8f2616d48ed9a6"
   }
  }
 },
 "nbformat": 4,
 "nbformat_minor": 2
}
